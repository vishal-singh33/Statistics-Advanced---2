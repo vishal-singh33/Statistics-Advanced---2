{
  "nbformat": 4,
  "nbformat_minor": 0,
  "metadata": {
    "colab": {
      "provenance": []
    },
    "kernelspec": {
      "name": "python3",
      "display_name": "Python 3"
    },
    "language_info": {
      "name": "python"
    }
  },
  "cells": [
    {
      "cell_type": "markdown",
      "source": [
        "**Question 1: What is hypothesis testing in statistics?**\n",
        "\n",
        "Answer:- Hypothesis testing in statistics is a method to make decisions or inferences about a population based on sample data.\n",
        "It tests an assumption (called the null hypothesis, H₀) against an alternative (H₁) using probability.\n",
        "\n",
        "H₀ (Null Hypothesis): No effect / no difference.\n",
        "\n",
        "H₁ (Alternative Hypothesis): There is an effect / difference.\n",
        "We use a test statistic (like t-test, z-test) and a p-value to decide whether to reject H₀.\n",
        "\n",
        "If p-value < significance level (α, e.g., 0.05) → Reject H₀.\n",
        "\n",
        "Hypothesis testing is like a court trial for data — the null hypothesis is \"innocent until proven guilty,\" and only strong evidence (low p-value) can convict it.\n"
      ],
      "metadata": {
        "id": "92SZwq-EqxPG"
      }
    },
    {
      "cell_type": "code",
      "source": [
        "import numpy as np\n",
        "from scipy import stats\n",
        "\n",
        "data = np.array([172, 168, 171, 169, 173, 170, 174])\n",
        "\n",
        "# Hypothesized population mean\n",
        "mu = 170\n",
        "\n",
        "# Perform one-sample t-test\n",
        "t_stat, p_value = stats.ttest_1samp(data, mu)\n",
        "\n",
        "print(\"t-statistic:\", round(t_stat, 3))\n",
        "print(\"p-value:\", round(p_value, 4))\n",
        "\n",
        "if p_value < 0.05:\n",
        "    print(\"Reject H₀: The mean height is significantly different from 170 cm\")\n",
        "else:\n",
        "    print(\"Fail to Reject H₀: No significant difference from 170 cm\")\n"
      ],
      "metadata": {
        "colab": {
          "base_uri": "https://localhost:8080/"
        },
        "id": "xUSNIiJ8sGq1",
        "outputId": "0cb6be98-a3ac-457b-a433-17c9d72a0e03"
      },
      "execution_count": 2,
      "outputs": [
        {
          "output_type": "stream",
          "name": "stdout",
          "text": [
            "t-statistic: 1.225\n",
            "p-value: 0.2666\n",
            "Fail to Reject H₀: No significant difference from 170 cm\n"
          ]
        }
      ]
    },
    {
      "cell_type": "markdown",
      "source": [
        "**Question 2: What is the null hypothesis, and how does it differ from the alternative\n",
        "hypothesis?**\n",
        "\n",
        "Answer:- Null Hypothesis (H₀):\n",
        "\n",
        "It's the default assumption that there is no effect, no difference, or no relationship.\n",
        "\n",
        "Example: “The average exam score of Class A = 70.”\n",
        "\n",
        "Alternative Hypothesis (H₁ or Ha):\n",
        "\n",
        "It's the contradictory claim to H₀, suggesting there is an effect, difference, or relationship.\n",
        "\n",
        "Example: “The average exam score of Class A ≠ 70.”\n",
        "\n",
        "Think of H₀ as “innocent until proven guilty” and H₁ as “guilty” — only strong evidence (low p-value) can shift belief from H₀ to H"
      ],
      "metadata": {
        "id": "cAGFpwpGsUEr"
      }
    },
    {
      "cell_type": "code",
      "source": [
        "import numpy as np\n",
        "from scipy.stats import binomtest\n",
        "\n",
        "# 100 coin flips, 60 heads\n",
        "heads = 60\n",
        "n = 100\n",
        "\n",
        "# Test (H₀: coin is fair, p=0.5)\n",
        "result = binomtest(heads, n, p=0.5, alternative='two-sided')\n",
        "p_value = result.pvalue\n",
        "\n",
        "print(\"p-value:\", p_value)\n",
        "\n",
        "if p_value < 0.05:\n",
        "    print(\"Reject H₀: Coin may be biased\")\n",
        "else:\n",
        "    print(\"Fail to Reject H₀: Coin appears fair\")"
      ],
      "metadata": {
        "colab": {
          "base_uri": "https://localhost:8080/"
        },
        "id": "PAaKWxZ-taGh",
        "outputId": "98897e5d-17bc-4263-83ab-e23c3ecd8b40"
      },
      "execution_count": 5,
      "outputs": [
        {
          "output_type": "stream",
          "name": "stdout",
          "text": [
            "p-value: 0.056887933640980784\n",
            "Fail to Reject H₀: Coin appears fair\n"
          ]
        }
      ]
    },
    {
      "cell_type": "markdown",
      "source": [
        "**Question 3: Explain the significance level in hypothesis testing and its role in deciding\n",
        "the outcome of a test.**\n",
        "\n",
        "Answer:- Significance Level (α):\n",
        "\n",
        "The threshold probability we set before a hypothesis test to decide whether to reject the null hypothesis (H₀).\n",
        "\n",
        "Commonly: α = 0.05 (5%) → means we are willing to accept a 5% risk of wrongly rejecting H₀ (Type I error).\n",
        "\n",
        "Role in Hypothesis Testing:\n",
        "\n",
        "Set α (e.g., 0.05).\n",
        "\n",
        "Compute p-value from test.\n",
        "\n",
        "Compare:\n",
        "\n",
        "If p-value ≤ α → Reject H₀ (evidence supports H₁).\n",
        "\n",
        "If p-value > α → Fail to reject H₀ (not enough evidence).\n",
        "\n",
        "The significance level is like a “judge’s strictness.”\n",
        "\n",
        "A strict judge (α = 0.01) requires stronger evidence to convict H₀.\n",
        "\n",
        "A lenient judge (α = 0.10) convicts more easily."
      ],
      "metadata": {
        "id": "RjiJ67hVtq3J"
      }
    },
    {
      "cell_type": "code",
      "source": [
        "import numpy as np\n",
        "from scipy import stats\n",
        "\n",
        "# Sample dice rolls\n",
        "data = np.array([2, 3, 4, 6, 5, 3, 4, 6, 2, 5])\n",
        "\n",
        "# Hypothesized mean\n",
        "mu = 3.5\n",
        "\n",
        "# Perform one-sample t-test\n",
        "t_stat, p_value = stats.ttest_1samp(data, mu)\n",
        "\n",
        "alpha = 0.05  # Significance level\n",
        "\n",
        "print(\"p-value:\", round(p_value, 4))\n",
        "print(\"alpha:\", alpha)\n",
        "\n",
        "if p_value <= alpha:\n",
        "    print(\"Reject H₀: Dice may not be fair\")\n",
        "else:\n",
        "    print(\"Fail to Reject H₀: No evidence against fairness\")\n"
      ],
      "metadata": {
        "colab": {
          "base_uri": "https://localhost:8080/"
        },
        "id": "lyvsI7y_uZUh",
        "outputId": "ab330d9e-4e09-4b1f-db91-128850c33c74"
      },
      "execution_count": 8,
      "outputs": [
        {
          "output_type": "stream",
          "name": "stdout",
          "text": [
            "p-value: 0.3165\n",
            "alpha: 0.05\n",
            "Fail to Reject H₀: No evidence against fairness\n"
          ]
        }
      ]
    },
    {
      "cell_type": "markdown",
      "source": [
        "**Question 4: What are Type I and Type II errors? Give examples of each.**\n",
        "\n",
        "Answer:-Type I Error (False Positive)\n",
        "\n",
        "Definition: Rejecting the null hypothesis (H₀) when it is actually true.\n",
        "\n",
        "Meaning: You conclude there is an effect when in reality there isn't.\n",
        "\n",
        "Probability: Equal to significance level (α).\n",
        "\n",
        "Example:\n",
        "A medical test says a healthy person has a disease.\n",
        "(H₀: Person is healthy → wrongly rejected).\n",
        "\n",
        "Type II Error (False Negative)\n",
        "\n",
        "Definition: Failing to reject the null hypothesis when it is actually false.\n",
        "\n",
        "Meaning: You conclude there is no effect when in reality there is one.\n",
        "\n",
        "Probability: Denoted by β (related to test power = 1 - β).\n",
        "\n",
        "Example:\n",
        "A medical test fails to detect a disease in a sick person.\n",
        "(H₀: Person is healthy → wrongly accepted).\n",
        "\n",
        "Type I = False Alarm (seeing an effect that isn't there).\n",
        "\n",
        "Type II = Missed Alarm (missing a real effect)."
      ],
      "metadata": {
        "id": "oMBwxeUhujWn"
      }
    },
    {
      "cell_type": "code",
      "source": [
        "import numpy as np\n",
        "from scipy.stats import binomtest\n",
        "\n",
        "# 100 flips, got 60 heads\n",
        "heads, n = 60, 100\n",
        "result = binomtest(heads, n, p=0.5)\n",
        "p_value = result.pvalue\n",
        "\n",
        "alpha = 0.05\n",
        "\n",
        "if p_value < alpha:\n",
        "    print(\"Reject H₀ (possible Type I error if coin is actually fair)\")\n",
        "else:\n",
        "    print(\"Fail to Reject H₀ (possible Type II error if coin is actually biased)\")"
      ],
      "metadata": {
        "colab": {
          "base_uri": "https://localhost:8080/"
        },
        "id": "htDJR0t4wPr2",
        "outputId": "1a8f67b1-a671-4b88-a6f5-a72910ab2a4c"
      },
      "execution_count": 10,
      "outputs": [
        {
          "output_type": "stream",
          "name": "stdout",
          "text": [
            "Fail to Reject H₀ (possible Type II error if coin is actually biased)\n"
          ]
        }
      ]
    },
    {
      "cell_type": "markdown",
      "source": [
        "**Question 5: What is the difference between a Z-test and a T-test? Explain when to use\n",
        "each.**\n",
        "\n",
        "Answer:- Z-test\n",
        "\n",
        "Used when:\n",
        "\n",
        "Population variance (σ²) is known, or\n",
        "\n",
        "Sample size is large (n ≥ 30) (Central Limit Theorem applies).\n",
        "\n",
        "Distribution: Standard Normal (Z ~ N(0,1)).\n",
        "\n",
        "Example: Checking if average height of 500 students differs from 170 cm (large sample, σ known).\n",
        "\n",
        "T-test\n",
        "\n",
        "Used when:\n",
        "\n",
        "Population variance is unknown,\n",
        "\n",
        "Sample size is small (n < 30).\n",
        "\n",
        "Distribution: Student’s t-distribution (fatter tails than Z).\n",
        "\n",
        "Example: Checking if average height of 12 students differs from 170 cm (small sample, σ unknown).\n",
        "\n",
        "Z-test = Big picture, known certainty.\n",
        "\n",
        "T-test = Small sample, more uncertainty.\n",
        "\n"
      ],
      "metadata": {
        "id": "5LVzRliPweBh"
      }
    },
    {
      "cell_type": "code",
      "source": [
        "import numpy as np\n",
        "from scipy import stats\n",
        "\n",
        "# Small sample (T-test)\n",
        "sample_small = np.array([172, 168, 171, 169, 173])\n",
        "t_stat, p_val_t = stats.ttest_1samp(sample_small, 170)\n",
        "\n",
        "# Large sample (Z-test approximation)\n",
        "sample_large = np.random.normal(170, 10, 1000)  # n=1000, σ known\n",
        "z_stat = (np.mean(sample_large) - 170) / (10/np.sqrt(1000))\n",
        "p_val_z = 2 * (1 - stats.norm.cdf(abs(z_stat)))\n",
        "\n",
        "print(\"T-test p-value:\", round(p_val_t, 4))\n",
        "print(\"Z-test p-value:\", round(p_val_z, 4))\n"
      ],
      "metadata": {
        "colab": {
          "base_uri": "https://localhost:8080/"
        },
        "id": "DXZOJltUxB8Z",
        "outputId": "a36a0468-de6b-41b0-c1f3-454cef5f2e02"
      },
      "execution_count": 13,
      "outputs": [
        {
          "output_type": "stream",
          "name": "stdout",
          "text": [
            "T-test p-value: 0.5529\n",
            "Z-test p-value: 0.6465\n"
          ]
        }
      ]
    },
    {
      "cell_type": "markdown",
      "source": [
        "**Question 6: Write a Python program to generate a binomial distribution with n=10 and**\n",
        "**p=0.5, then plot its histogram.**\n",
        "\n",
        "**(Include your Python code and output in the code box below.)**\n",
        "**Hint: Generate random number using random function.**\n",
        "\n",
        "Answer:- Simulates 1000 experiments of tossing a fair coin 10 times.\n",
        "\n",
        "Counts how many “successes” (heads) occur in each experiment.\n",
        "\n",
        "Plots a histogram showing the probability distribution.\n",
        "\n",
        "The output histogram will look bell-shaped and centered around 5, since the expected value is:\n",
        "\n",
        "𝐸\n",
        "[\n",
        "𝑋\n",
        "]\n",
        "=\n",
        "𝑛\n",
        "×\n",
        "𝑝\n",
        "=\n",
        "10\n",
        "×\n",
        "0.5\n",
        "=\n",
        "5\n",
        "E[X]=n×p=10×0.5=5"
      ],
      "metadata": {
        "id": "93j8PhF3xEsv"
      }
    },
    {
      "cell_type": "code",
      "source": [
        "import numpy as np\n",
        "import matplotlib.pyplot as plt\n",
        "\n",
        "# Parameters\n",
        "n = 10      # number of trials\n",
        "p = 0.5     # probability of success\n",
        "size = 1000 # number of experiments\n",
        "\n",
        "# Generate random numbers from Binomial distribution\n",
        "data = np.random.binomial(n, p, size)\n",
        "\n",
        "# Plot histogram\n",
        "plt.hist(data, bins=np.arange(0, n+2)-0.5, edgecolor='black', density=True)\n",
        "plt.title(\"Binomial Distribution (n=10, p=0.5)\")\n",
        "plt.xlabel(\"Number of Successes\")\n",
        "plt.ylabel(\"Probability\")\n",
        "plt.grid(axis='y', linestyle=\"--\", alpha=0.7)\n",
        "plt.show()\n"
      ],
      "metadata": {
        "colab": {
          "base_uri": "https://localhost:8080/",
          "height": 472
        },
        "id": "qKQ_SapryzfL",
        "outputId": "335acb59-3c6b-445a-c01a-50af92260ceb"
      },
      "execution_count": 14,
      "outputs": [
        {
          "output_type": "display_data",
          "data": {
            "text/plain": [
              "<Figure size 640x480 with 1 Axes>"
            ],
            "image/png": "[encoded data removed]"
          },
          "metadata": {}
        }
      ]
    },
    {
      "cell_type": "markdown",
      "source": [
        "**Question 7: Implement hypothesis testing using Z-statistics for a sample dataset in**\n",
        "**Python. Show the Python code and interpret the results.**\n",
        "**sample_data = [49.1, 50.2, 51.0, 48.7, 50.5, 49.8, 50.3, 50.7, 50.2, 49.6,**\n",
        "                        **50.1, 49.9, 50.8, 50.4, 48.9, 50.6, 50.0, 49.7, 50.2, 49.5,**\n",
        "                        **50.1, 50.3, 50.4, 50.5, 50.0, 50.7, 49.3, 49.8, 50.2, 50.9,**\n",
        "                        **50.3, 50.4, 50.0, 49.7, 50.5, 49.9]**\n",
        "**(Include your Python code and output in the code box below.)**\n",
        "\n",
        "Answer:- Null Hypothesis (H₀): Population mean = 50\n",
        "\n",
        "Alternative Hypothesis (H₁): Population mean ≠ 50\n",
        "\n",
        "Significance Level (α): 0.05\n",
        "\n",
        "ypothesis Testing using Z-statistics\n",
        "\n",
        "A Z-test is a type of hypothesis test used when:\n",
        "\n",
        "The sample size is large (n ≥ 30), or\n",
        "\n",
        "The population variance (σ²) is known.\n",
        "\n",
        "It compares the sample mean (x̄) with the population mean (μ) to check if the difference is statistically significant.\n",
        "\n",
        "Null Hypothesis (H₀): μ = μ₀ (no difference).\n",
        "\n",
        "Alternative Hypothesis (H₁): μ ≠ μ₀ (two-tailed test).\n",
        "\n",
        "The Z-statistic formula is:\n",
        "\n",
        "𝑍\n",
        "=\n",
        "𝑋\n",
        "ˉ\n",
        "−\n",
        "𝜇\n",
        "𝜎\n",
        "/\n",
        "𝑛\n",
        "Z=\n",
        "σ/\n",
        "n\n",
        "\t​\n",
        "\n",
        "X\n",
        "ˉ\n",
        "−μ\n",
        "\t​\n",
        "\n",
        "\n",
        "Where:\n",
        "\n",
        "𝑋\n",
        "ˉ\n",
        "X\n",
        "ˉ\n",
        " = sample mean\n",
        "\n",
        "μ = population mean (hypothesized)\n",
        "\n",
        "σ = population standard deviation (or sample std as estimate)\n",
        "\n",
        "n = sample size\n",
        "\n",
        "Decision rule (two-tailed test):\n",
        "\n",
        "If p-value ≤ α → Reject H₀\n",
        "\n",
        "If p-value > α → Fail to reject H₀"
      ],
      "metadata": {
        "id": "1BO2GhUxzETu"
      }
    },
    {
      "cell_type": "code",
      "source": [
        "import numpy as np\n",
        "from scipy import stats\n",
        "\n",
        "# Sample data\n",
        "sample_data = [49.1, 50.2, 51.0, 48.7, 50.5, 49.8, 50.3, 50.7, 50.2, 49.6,\n",
        "               50.1, 49.9, 50.8, 50.4, 48.9, 50.6, 50.0, 49.7, 50.2, 49.5,\n",
        "               50.1, 50.3, 50.4, 50.5, 50.0, 50.7, 49.3, 49.8, 50.2, 50.9,\n",
        "               50.3, 50.4, 50.0, 49.7, 50.5, 49.9]\n",
        "\n",
        "# Convert to numpy array\n",
        "data = np.array(sample_data)\n",
        "\n",
        "# Hypothesized population mean\n",
        "mu = 50\n",
        "\n",
        "# Sample mean and std\n",
        "x_bar = np.mean(data)\n",
        "s = np.std(data, ddof=1)  # sample standard deviation\n",
        "n = len(data)\n",
        "\n",
        "# Z-statistic\n",
        "z_stat = (x_bar - mu) / (s / np.sqrt(n))\n",
        "\n",
        "# Two-tailed p-value\n",
        "p_value = 2 * (1 - stats.norm.cdf(abs(z_stat)))\n",
        "\n",
        "print(\"Sample Mean:\", round(x_bar, 3))\n",
        "print(\"Z-statistic:\", round(z_stat, 3))\n",
        "print(\"p-value:\", round(p_value, 4))\n",
        "\n",
        "alpha = 0.05\n",
        "if p_value < alpha:\n",
        "    print(\"Reject H₀: The sample mean is significantly different from 50\")\n",
        "else:\n",
        "    print(\"Fail to Reject H₀: No significant difference from 50\")\n"
      ],
      "metadata": {
        "colab": {
          "base_uri": "https://localhost:8080/"
        },
        "id": "sPIVdOx327TG",
        "outputId": "63d25c28-34c2-4954-cbbc-4748db11116c"
      },
      "execution_count": 15,
      "outputs": [
        {
          "output_type": "stream",
          "name": "stdout",
          "text": [
            "Sample Mean: 50.089\n",
            "Z-statistic: 0.994\n",
            "p-value: 0.3202\n",
            "Fail to Reject H₀: No significant difference from 50\n"
          ]
        }
      ]
    },
    {
      "cell_type": "markdown",
      "source": [
        "**Question 8: Write a Python script to simulate data from a normal distribution and**\n",
        "**calculate the 95% confidence interval for its mean. Plot the data using Matplotlib.**\n",
        "**(Include your Python code and output in the code box below.)**\n",
        "\n",
        "Answer:- A confidence interval (CI) gives a range of plausible values for a population parameter (like the mean).\n",
        "\n",
        "Formula for 95% CI of the mean:\n",
        "\n",
        "𝐶\n",
        "𝐼\n",
        "=\n",
        "𝑋\n",
        "ˉ\n",
        "±\n",
        "𝑍\n",
        "𝛼\n",
        "/\n",
        "2\n",
        "×\n",
        "𝑠\n",
        "𝑛\n",
        "CI=\n",
        "X\n",
        "ˉ\n",
        "±Z\n",
        "α/2\n",
        "\t​\n",
        "\n",
        "×\n",
        "n\n",
        "\t​\n",
        "\n",
        "s\n",
        "\t​\n",
        "\n",
        "\n",
        "Where:\n",
        "\n",
        "𝑋\n",
        "ˉ\n",
        "X\n",
        "ˉ\n",
        " = sample mean\n",
        "\n",
        "𝑠\n",
        "s = sample standard deviation\n",
        "\n",
        "𝑛\n",
        "n = sample size\n",
        "\n",
        "𝑍\n",
        "𝛼\n",
        "/\n",
        "2\n",
        "Z\n",
        "α/2\n",
        "\t​\n",
        "\n",
        " = critical value (for 95% CI, ≈ 1.96)\n",
        "\n",
        "Interpretation: “We are 95% confident that the true mean lies within this interval.”\n",
        "\n",
        "The confidence interval is like a safety net — it doesn’t say the true mean is exactly the sample mean, but that it almost surely lies within the given range (95% of the time).\n",
        "\n",
        "\n",
        "Prints the sample mean and 95% CI.\n",
        "\n",
        "Shows a histogram of simulated normal data, with vertical lines marking the mean (red) and CI bounds (green)."
      ],
      "metadata": {
        "id": "wXVFmd1u33AP"
      }
    },
    {
      "cell_type": "code",
      "source": [
        "import numpy as np\n",
        "import matplotlib.pyplot as plt\n",
        "from scipy import stats\n",
        "\n",
        "# Simulate data from a normal distribution\n",
        "np.random.seed(42)  # for reproducibility\n",
        "data = np.random.normal(loc=50, scale=5, size=100)  # mean=50, std=5, n=100\n",
        "\n",
        "# Sample statistics\n",
        "mean = np.mean(data)\n",
        "std = np.std(data, ddof=1)\n",
        "n = len(data)\n",
        "\n",
        "# 95% Confidence Interval\n",
        "alpha = 0.05\n",
        "z_critical = stats.norm.ppf(1 - alpha/2)  # Z = 1.96 for 95%\n",
        "margin_of_error = z_critical * (std / np.sqrt(n))\n",
        "ci_lower, ci_upper = mean - margin_of_error, mean + margin_of_error\n",
        "\n",
        "print(\"Sample Mean:\", round(mean, 3))\n",
        "print(\"95% Confidence Interval:\", (round(ci_lower, 3), round(ci_upper, 3)))\n",
        "\n",
        "# Plot the data\n",
        "plt.hist(data, bins=15, color=\"skyblue\", edgecolor=\"black\", density=True)\n",
        "plt.axvline(mean, color='red', linestyle='--', label=f\"Mean = {mean:.2f}\")\n",
        "plt.axvline(ci_lower, color='green', linestyle='--', label=f\"95% CI Lower = {ci_lower:.2f}\")\n",
        "plt.axvline(ci_upper, color='green', linestyle='--', label=f\"95% CI Upper = {ci_upper:.2f}\")\n",
        "\n",
        "plt.title(\"Normal Distribution with 95% Confidence Interval\")\n",
        "plt.xlabel(\"Value\")\n",
        "plt.ylabel(\"Density\")\n",
        "plt.legend()\n",
        "plt.grid(axis='y', linestyle=\"--\", alpha=0.7)\n",
        "plt.show()\n"
      ],
      "metadata": {
        "colab": {
          "base_uri": "https://localhost:8080/",
          "height": 507
        },
        "id": "8ZUmJ3kP46_w",
        "outputId": "c6926165-5cb5-43cd-f3e6-54eb9e2050b7"
      },
      "execution_count": 16,
      "outputs": [
        {
          "output_type": "stream",
          "name": "stdout",
          "text": [
            "Sample Mean: 49.481\n",
            "95% Confidence Interval: (np.float64(48.591), np.float64(50.371))\n"
          ]
        },
        {
          "output_type": "display_data",
          "data": {
            "text/plain": [
              "<Figure size 640x480 with 1 Axes>"
            ],
            "image/png": "[encoded data removed]"
          },
          "metadata": {}
        }
      ]
    },
    {
      "cell_type": "markdown",
      "source": [
        "**Question 9: Write a Python function to calculate the Z-scores from a dataset and**\n",
        "**visualize the standardized data using a histogram. Explain what the Z-scores represent**\n",
        "**in terms of standard deviations from the mean.**\n",
        "**(Include your Python code and output in the code box below.)**\n",
        "\n",
        "Answer:- A Z-score tells us how many standard deviations a data point is from the mean.\n",
        "\n",
        "Formula:\n",
        "\n",
        "𝑍\n",
        "=\n",
        "𝑋\n",
        "−\n",
        "𝜇\n",
        "𝜎\n",
        "Z=\n",
        "σ\n",
        "X−μ\n",
        "\t​\n",
        "\n",
        "\n",
        "Where:\n",
        "\n",
        "𝑋\n",
        "X = individual data point\n",
        "\n",
        "𝜇\n",
        "μ = sample mean\n",
        "\n",
        "𝜎\n",
        "σ = sample standard deviation\n",
        "\n",
        " Interpretation:\n",
        "\n",
        "Z = 0 → exactly at the mean\n",
        "\n",
        "Z = +1 → 1 std above the mean\n",
        "\n",
        "Z = -2 → 2 std below the mean\n",
        "\n",
        "This standardization helps compare values from different distributions.\n",
        "\n",
        "Z-scores reframe your data into a universal scale — everything is measured in “standard deviations from the mean,” making comparisons across datasets easy."
      ],
      "metadata": {
        "id": "rtoYNqky5QFE"
      }
    },
    {
      "cell_type": "code",
      "source": [
        "import numpy as np\n",
        "import matplotlib.pyplot as plt\n",
        "\n",
        "# Function to calculate Z-scores\n",
        "def calculate_z_scores(data):\n",
        "    mean = np.mean(data)\n",
        "    std = np.std(data, ddof=1)  # sample standard deviation\n",
        "    z_scores = (data - mean) / std\n",
        "    return z_scores\n",
        "\n",
        "# Generate sample dataset\n",
        "np.random.seed(42)\n",
        "data = np.random.normal(50, 10, 100)  # mean=50, std=10, n=100\n",
        "\n",
        "# Calculate Z-scores\n",
        "z_scores = calculate_z_scores(data)\n",
        "\n",
        "# Print some results\n",
        "print(\"Original Mean:\", round(np.mean(data), 3))\n",
        "print(\"Original Std Dev:\", round(np.std(data, ddof=1), 3))\n",
        "print(\"Z-scores (first 5):\", np.round(z_scores[:5], 3))\n",
        "\n",
        "# Plot histogram of Z-scores\n",
        "plt.hist(z_scores, bins=15, color=\"lightcoral\", edgecolor=\"black\", density=True)\n",
        "plt.title(\"Histogram of Standardized Data (Z-scores)\")\n",
        "plt.xlabel(\"Z-score\")\n",
        "plt.ylabel(\"Density\")\n",
        "plt.axvline(0, color='blue', linestyle='--', label=\"Mean (Z=0)\")\n",
        "plt.axvline(1, color='green', linestyle='--', label=\"Z=+1 (1 std above)\")\n",
        "plt.axvline(-1, color='green', linestyle='--', label=\"Z=-1 (1 std below)\")\n",
        "plt.legend()\n",
        "plt.grid(axis='y', linestyle=\"--\", alpha=0.7)\n",
        "plt.show()\n"
      ],
      "metadata": {
        "colab": {
          "base_uri": "https://localhost:8080/",
          "height": 524
        },
        "id": "AYuVlyJT7Fhu",
        "outputId": "4cd9dd2c-f7c1-4560-da34-3850729c97c2"
      },
      "execution_count": 17,
      "outputs": [
        {
          "output_type": "stream",
          "name": "stdout",
          "text": [
            "Original Mean: 48.962\n",
            "Original Std Dev: 9.082\n",
            "Z-scores (first 5): [ 0.661 -0.038  0.828  1.791 -0.143]\n"
          ]
        },
        {
          "output_type": "display_data",
          "data": {
            "text/plain": [
              "<Figure size 640x480 with 1 Axes>"
            ],
            "image/png": "[encoded data removed]"
          },
          "metadata": {}
        }
      ]
    }
  ]
}